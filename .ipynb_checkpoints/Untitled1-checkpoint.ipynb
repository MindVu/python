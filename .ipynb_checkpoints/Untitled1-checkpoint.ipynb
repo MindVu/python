{
 "cells": [
  {
   "cell_type": "code",
   "execution_count": 1,
   "id": "38320d01",
   "metadata": {},
   "outputs": [],
   "source": [
    "import pandas as pd\n",
    "import numpy as np\n",
    "import re"
   ]
  },
  {
   "cell_type": "code",
   "execution_count": 2,
   "id": "44c72b70",
   "metadata": {
    "scrolled": true
   },
   "outputs": [
    {
     "data": {
      "text/html": [
       "<div>\n",
       "<style scoped>\n",
       "    .dataframe tbody tr th:only-of-type {\n",
       "        vertical-align: middle;\n",
       "    }\n",
       "\n",
       "    .dataframe tbody tr th {\n",
       "        vertical-align: top;\n",
       "    }\n",
       "\n",
       "    .dataframe thead th {\n",
       "        text-align: right;\n",
       "    }\n",
       "</style>\n",
       "<table border=\"1\" class=\"dataframe\">\n",
       "  <thead>\n",
       "    <tr style=\"text-align: right;\">\n",
       "      <th></th>\n",
       "      <th>Comment</th>\n",
       "      <th>Label</th>\n",
       "    </tr>\n",
       "  </thead>\n",
       "  <tbody>\n",
       "    <tr>\n",
       "      <th>0</th>\n",
       "      <td>Love you sir!!</td>\n",
       "      <td>positive</td>\n",
       "    </tr>\n",
       "    <tr>\n",
       "      <th>1</th>\n",
       "      <td>Thank you very much, u really got me in the fi...</td>\n",
       "      <td>positive</td>\n",
       "    </tr>\n",
       "    <tr>\n",
       "      <th>2</th>\n",
       "      <td>Another great explanation by Abdul sir. Thank ...</td>\n",
       "      <td>positive</td>\n",
       "    </tr>\n",
       "    <tr>\n",
       "      <th>3</th>\n",
       "      <td>I had no idea what was going on in the first o...</td>\n",
       "      <td>positive</td>\n",
       "    </tr>\n",
       "    <tr>\n",
       "      <th>4</th>\n",
       "      <td>Thankkk youuuuu soooo sooo much sir</td>\n",
       "      <td>positive</td>\n",
       "    </tr>\n",
       "    <tr>\n",
       "      <th>...</th>\n",
       "      <td>...</td>\n",
       "      <td>...</td>\n",
       "    </tr>\n",
       "    <tr>\n",
       "      <th>2522</th>\n",
       "      <td>Practise, practise, practise, I couldn't agree...</td>\n",
       "      <td>negative</td>\n",
       "    </tr>\n",
       "    <tr>\n",
       "      <th>2523</th>\n",
       "      <td>Need a small hep from you. Have my GRE in 3 da...</td>\n",
       "      <td>negative</td>\n",
       "    </tr>\n",
       "    <tr>\n",
       "      <th>2524</th>\n",
       "      <td>I failed at last question ðŸ˜¢</td>\n",
       "      <td>negative</td>\n",
       "    </tr>\n",
       "    <tr>\n",
       "      <th>2525</th>\n",
       "      <td>Thatâ€™s true tht happen to me the first thing...</td>\n",
       "      <td>negative</td>\n",
       "    </tr>\n",
       "    <tr>\n",
       "      <th>2526</th>\n",
       "      <td>the video is not working after 31 seconds :(</td>\n",
       "      <td>negative</td>\n",
       "    </tr>\n",
       "  </tbody>\n",
       "</table>\n",
       "<p>2527 rows × 2 columns</p>\n",
       "</div>"
      ],
      "text/plain": [
       "                                                Comment     Label\n",
       "0                                        Love you sir!!  positive\n",
       "1     Thank you very much, u really got me in the fi...  positive\n",
       "2     Another great explanation by Abdul sir. Thank ...  positive\n",
       "3     I had no idea what was going on in the first o...  positive\n",
       "4                   Thankkk youuuuu soooo sooo much sir  positive\n",
       "...                                                 ...       ...\n",
       "2522  Practise, practise, practise, I couldn't agree...  negative\n",
       "2523  Need a small hep from you. Have my GRE in 3 da...  negative\n",
       "2524                     I failed at last question ðŸ˜¢  negative\n",
       "2525  Thatâ€™s true tht happen to me the first thing...  negative\n",
       "2526       the video is not working after 31 seconds :(  negative\n",
       "\n",
       "[2527 rows x 2 columns]"
      ]
     },
     "execution_count": 2,
     "metadata": {},
     "output_type": "execute_result"
    }
   ],
   "source": [
    "df = pd.read_csv(\"./datasettt.csv\")\n",
    "df"
   ]
  },
  {
   "cell_type": "code",
   "execution_count": 3,
   "id": "9b579ae7",
   "metadata": {},
   "outputs": [
    {
     "name": "stderr",
     "output_type": "stream",
     "text": [
      "[nltk_data] Downloading package stopwords to /Users/macos/nltk_data...\n",
      "[nltk_data]   Package stopwords is already up-to-date!\n"
     ]
    },
    {
     "data": {
      "text/plain": [
       "True"
      ]
     },
     "execution_count": 3,
     "metadata": {},
     "output_type": "execute_result"
    }
   ],
   "source": [
    "import nltk"
   ]
  },
  {
   "cell_type": "code",
   "execution_count": 4,
   "id": "c8304e82",
   "metadata": {
    "scrolled": true
   },
   "outputs": [
    {
     "ename": "NameError",
     "evalue": "name 'stopwords' is not defined",
     "output_type": "error",
     "traceback": [
      "\u001b[0;31m---------------------------------------------------------------------------\u001b[0m",
      "\u001b[0;31mNameError\u001b[0m                                 Traceback (most recent call last)",
      "Cell \u001b[0;32mIn[4], line 4\u001b[0m\n\u001b[1;32m      1\u001b[0m \u001b[38;5;66;03m# Removing stopwords\u001b[39;00m\n\u001b[1;32m      2\u001b[0m \u001b[38;5;66;03m# nltk.download('stopwords')\u001b[39;00m\n\u001b[0;32m----> 4\u001b[0m stop \u001b[38;5;241m=\u001b[39m \u001b[43mstopwords\u001b[49m\u001b[38;5;241m.\u001b[39mwords(\u001b[38;5;124m'\u001b[39m\u001b[38;5;124menglish\u001b[39m\u001b[38;5;124m'\u001b[39m)\n\u001b[1;32m      6\u001b[0m \u001b[38;5;66;03m# These are the words that should not be removed from their category\u001b[39;00m\n\u001b[1;32m      7\u001b[0m negative_words \u001b[38;5;241m=\u001b[39m [\u001b[38;5;124m'\u001b[39m\u001b[38;5;124mno\u001b[39m\u001b[38;5;124m'\u001b[39m,\u001b[38;5;124m'\u001b[39m\u001b[38;5;124mnot\u001b[39m\u001b[38;5;124m'\u001b[39m]\n",
      "\u001b[0;31mNameError\u001b[0m: name 'stopwords' is not defined"
     ]
    }
   ],
   "source": [
    "# Removing stopwords\n",
    "# nltk.download('stopwords')\n",
    "\n",
    "stop = stopwords.words('english')\n",
    "\n",
    "# These are the words that should not be removed from their category\n",
    "negative_words = ['no','not']\n",
    "neutral_words = ['how','what','which','who','whom','why','do','does','is','are','was','were','will','am',\n",
    "                      'are','could','would','should','can','did','does','do','had','have']\n",
    "\n",
    "for_negative_category = stop.copy()\n",
    "for word in negative_words:\n",
    "    if word in for_negative_category:\n",
    "        for_negative_category.remove(word)\n",
    "    \n",
    "for_neutral_category = stop.copy()\n",
    "for word in neutral_words:\n",
    "    if word in for_neutral_category:\n",
    "        for_neutral_category.remove(word)\n",
    "\n",
    "# For negative category\n",
    "for i in range(len(df)):\n",
    "    if df[\"Label\"][i] == \"negative\":\n",
    "        df[\"Comment\"][i] = ' '.join([word for word in df[0][i].split() if word not in for_negative_category])\n",
    "\n",
    "# For neutral category\n",
    "for i in range(len(df)):\n",
    "    if df[\"Label\"][i] == \"neutral\":\n",
    "        df[\"Comment\"][i] = ' '.join([word for word in df[0][i].split() if word not in for_neutral_category])\n",
    "        \n",
    "# For positive category\n",
    "for i in range(len(df)):\n",
    "    if df[\"Label\"][i] == \"positive\":\n",
    "        df[\"Comment\"][i] = ' '.join([word for word in df[0][i].split() if word not in stop])\n"
   ]
  },
  {
   "cell_type": "code",
   "execution_count": null,
   "id": "472e5eb4",
   "metadata": {},
   "outputs": [],
   "source": []
  }
 ],
 "metadata": {
  "kernelspec": {
   "display_name": "Python 3 (ipykernel)",
   "language": "python",
   "name": "python3"
  },
  "language_info": {
   "codemirror_mode": {
    "name": "ipython",
    "version": 3
   },
   "file_extension": ".py",
   "mimetype": "text/x-python",
   "name": "python",
   "nbconvert_exporter": "python",
   "pygments_lexer": "ipython3",
   "version": "3.11.3"
  }
 },
 "nbformat": 4,
 "nbformat_minor": 5
}
